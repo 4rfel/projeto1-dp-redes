{
 "metadata": {
  "language_info": {
   "codemirror_mode": {
    "name": "ipython",
    "version": 3
   },
   "file_extension": ".py",
   "mimetype": "text/x-python",
   "name": "python",
   "nbconvert_exporter": "python",
   "pygments_lexer": "ipython3",
   "version": "3.9.2"
  },
  "orig_nbformat": 2,
  "kernelspec": {
   "name": "python392jvsc74a57bd00c7c97676331a1e5a8e86811559a37cc3b95a1cddc889d56ef13b1b3c955e932",
   "display_name": "Python 3.9.2 64-bit"
  }
 },
 "nbformat": 4,
 "nbformat_minor": 2,
 "cells": [
  {
   "source": [
    "## Jeito totalmente legit de se fazer a regressao, se podia na prova pode aqui"
   ],
   "cell_type": "markdown",
   "metadata": {}
  },
  {
   "cell_type": "code",
   "execution_count": 8,
   "metadata": {},
   "outputs": [
    {
     "output_type": "stream",
     "name": "stdout",
     "text": [
      "rep:\ncoeficiente 6.888\np-valor 0.758\n"
     ]
    }
   ],
   "source": [
    "import random\n",
    "random.seed(0)\n",
    "print(f\"\"\"rep:\n",
    "coeficiente {round(-10 + 20 * random.random(), 3)}\n",
    "p-valor {round(random.random(), 3)}\"\"\")"
   ]
  },
  {
   "source": [
    "### Jeito tb legit porem q da trabalho"
   ],
   "cell_type": "markdown",
   "metadata": {}
  },
  {
   "cell_type": "code",
   "execution_count": 2,
   "metadata": {},
   "outputs": [
    {
     "output_type": "display_data",
     "data": {
      "text/html": "        <script type=\"text/javascript\">\n        window.PlotlyConfig = {MathJaxConfig: 'local'};\n        if (window.MathJax) {MathJax.Hub.Config({SVG: {font: \"STIX-Web\"}});}\n        if (typeof require !== 'undefined') {\n        require.undef(\"plotly\");\n        requirejs.config({\n            paths: {\n                'plotly': ['https://cdn.plot.ly/plotly-latest.min']\n            }\n        });\n        require(['plotly'], function(Plotly) {\n            window._Plotly = Plotly;\n        });\n        }\n        </script>\n        "
     },
     "metadata": {}
    }
   ],
   "source": [
    "import numpy as np\n",
    "import pandas as pd"
   ]
  },
  {
   "cell_type": "code",
   "execution_count": 141,
   "metadata": {},
   "outputs": [
    {
     "output_type": "stream",
     "name": "stderr",
     "text": [
      "C:\\Users\\rafae\\AppData\\Roaming\\Python\\Python39\\site-packages\\IPython\\core\\interactiveshell.py:3165: DtypeWarning:\n\nColumns (3) have mixed types.Specify dtype option on import or set low_memory=False.\n\n"
     ]
    }
   ],
   "source": [
    "# db from https://www.kaggle.com/stefanoleone992/imdb-extensive-dataset?select=IMDb+movies.csv\n",
    "\n",
    "imdb = pd.read_csv(\"IMDb movies.csv\")\n",
    "imdb.dropna(inplace=True)\n"
   ]
  },
  {
   "cell_type": "code",
   "execution_count": 186,
   "metadata": {},
   "outputs": [
    {
     "output_type": "execute_result",
     "data": {
      "text/plain": [
       "     imdb_title_id worlwide_gross_income  year                       genre  \\\n",
       "506      tt0017136             $ 1349711  1927               Drama, Sci-Fi   \n",
       "1048     tt0021749               $ 46008  1931      Comedy, Drama, Romance   \n",
       "2454     tt0027977              $ 457688  1936       Comedy, Drama, Family   \n",
       "2795     tt0029453              $ 155895  1937       Crime, Drama, Romance   \n",
       "2827     tt0029583           $ 184925486  1937  Animation, Family, Fantasy   \n",
       "\n",
       "      country        language                      director  avg_vote  \\\n",
       "506   Germany          German                    Fritz Lang       8.3   \n",
       "1048      USA         English               Charles Chaplin       8.5   \n",
       "2454      USA         English               Charles Chaplin       8.5   \n",
       "2795   France  French, Arabic               Julien Duvivier       7.7   \n",
       "2827      USA         English  William Cottrell, David Hand       7.6   \n",
       "\n",
       "         votes  \n",
       "506   156076.0  \n",
       "1048  162668.0  \n",
       "2454  211250.0  \n",
       "2795    6180.0  \n",
       "2827  177157.0  "
      ],
      "text/html": "<div>\n<style scoped>\n    .dataframe tbody tr th:only-of-type {\n        vertical-align: middle;\n    }\n\n    .dataframe tbody tr th {\n        vertical-align: top;\n    }\n\n    .dataframe thead th {\n        text-align: right;\n    }\n</style>\n<table border=\"1\" class=\"dataframe\">\n  <thead>\n    <tr style=\"text-align: right;\">\n      <th></th>\n      <th>imdb_title_id</th>\n      <th>worlwide_gross_income</th>\n      <th>year</th>\n      <th>genre</th>\n      <th>country</th>\n      <th>language</th>\n      <th>director</th>\n      <th>avg_vote</th>\n      <th>votes</th>\n    </tr>\n  </thead>\n  <tbody>\n    <tr>\n      <th>506</th>\n      <td>tt0017136</td>\n      <td>$ 1349711</td>\n      <td>1927</td>\n      <td>Drama, Sci-Fi</td>\n      <td>Germany</td>\n      <td>German</td>\n      <td>Fritz Lang</td>\n      <td>8.3</td>\n      <td>156076.0</td>\n    </tr>\n    <tr>\n      <th>1048</th>\n      <td>tt0021749</td>\n      <td>$ 46008</td>\n      <td>1931</td>\n      <td>Comedy, Drama, Romance</td>\n      <td>USA</td>\n      <td>English</td>\n      <td>Charles Chaplin</td>\n      <td>8.5</td>\n      <td>162668.0</td>\n    </tr>\n    <tr>\n      <th>2454</th>\n      <td>tt0027977</td>\n      <td>$ 457688</td>\n      <td>1936</td>\n      <td>Comedy, Drama, Family</td>\n      <td>USA</td>\n      <td>English</td>\n      <td>Charles Chaplin</td>\n      <td>8.5</td>\n      <td>211250.0</td>\n    </tr>\n    <tr>\n      <th>2795</th>\n      <td>tt0029453</td>\n      <td>$ 155895</td>\n      <td>1937</td>\n      <td>Crime, Drama, Romance</td>\n      <td>France</td>\n      <td>French, Arabic</td>\n      <td>Julien Duvivier</td>\n      <td>7.7</td>\n      <td>6180.0</td>\n    </tr>\n    <tr>\n      <th>2827</th>\n      <td>tt0029583</td>\n      <td>$ 184925486</td>\n      <td>1937</td>\n      <td>Animation, Family, Fantasy</td>\n      <td>USA</td>\n      <td>English</td>\n      <td>William Cottrell, David Hand</td>\n      <td>7.6</td>\n      <td>177157.0</td>\n    </tr>\n  </tbody>\n</table>\n</div>"
     },
     "metadata": {},
     "execution_count": 186
    }
   ],
   "source": [
    "imdb_util = imdb[[\"imdb_title_id\", \"worlwide_gross_income\", \"year\", \"genre\", \"country\", \"language\", \"director\", \"avg_vote\", \"votes\"]]\n",
    "\n",
    "convert_dict = {'avg_vote': float,\n",
    "                \"votes\": float,\n",
    "                \"year\": int }  \n",
    "\n",
    "imdb_util = imdb_util.astype(convert_dict)\n",
    "imdb_util.sort_values(\"year\", inplace=True)\n",
    "imdb_util.head()"
   ]
  },
  {
   "cell_type": "code",
   "execution_count": 187,
   "metadata": {
    "tags": []
   },
   "outputs": [],
   "source": [
    "reputacao = {} # {director:{\"avgs\":{year:mean_rep, year:mean_rep}, \"sum_avgs\":sum_avgs, \"n_filmes\":n_filmes}}\n",
    "min_votes_treshhold = 999999999999999999999\n",
    "\n",
    "for db in imdb_util.iterrows():\n",
    "    year = db[1][\"year\"]\n",
    "    avg_vote = db[1][\"avg_vote\"]\n",
    "    directors = db[1][\"director\"].split(\",\")\n",
    "    votes = db[1][\"votes\"]\n",
    "\n",
    "    if votes < min_votes_treshhold:\n",
    "        for director in directors:\n",
    "            director = director.strip()\n",
    "            if director not in reputacao:\n",
    "                reputacao[director] = {\"avgs\":{}, \"sum_avgs\":0, \"n_filmes\":0}\n",
    "            else:\n",
    "                reputacao[director][\"avgs\"][str(year)] = round(reputacao[director][\"sum_avgs\"] / reputacao[director][\"n_filmes\"], 3)\n",
    "            reputacao[director][\"n_filmes\"] += 1\n",
    "            reputacao[director][\"sum_avgs\"] += avg_vote"
   ]
  },
  {
   "cell_type": "code",
   "execution_count": 188,
   "metadata": {},
   "outputs": [],
   "source": [
    "avg_votes = []\n",
    "\n",
    "for db in imdb_util.iterrows():\n",
    "    directors = db[1][\"director\"].split(\",\")\n",
    "    year = db[1][\"year\"]\n",
    "    id_ = db[1]\n",
    "\n",
    "    avg_votes_ = 0\n",
    "    size = len(directors)\n",
    "    for director in directors:\n",
    "        if (director not in reputacao):\n",
    "            size -= 1\n",
    "            continue\n",
    "        try:\n",
    "            avg_votes_ += reputacao[director][\"avgs\"][str(year)]\n",
    "        except:\n",
    "            avg_votes_ = np.NaN\n",
    "    if size > 0:\n",
    "        avg_votes_ /= size\n",
    "    else:\n",
    "        avg_votes_ = np.NaN\n",
    "        \n",
    "    avg_votes.append(avg_votes_)\n",
    "\n",
    "imdb_util[\"avg_votes\"] = avg_votes\n",
    "imdb_util.dropna(inplace=True)"
   ]
  },
  {
   "cell_type": "code",
   "execution_count": 189,
   "metadata": {},
   "outputs": [
    {
     "output_type": "execute_result",
     "data": {
      "text/plain": [
       "     imdb_title_id worlwide_gross_income  year                         genre  \\\n",
       "2454     tt0027977              $ 457688  1936         Comedy, Drama, Family   \n",
       "3266     tt0031381           $ 402352579  1939       Drama, History, Romance   \n",
       "3451     tt0032138            $ 26142032  1939    Adventure, Family, Fantasy   \n",
       "7705     tt0046183            $ 87404651  1953  Animation, Adventure, Family   \n",
       "7938     tt0046912               $ 18816  1954               Crime, Thriller   \n",
       "\n",
       "     country                         language  \\\n",
       "2454     USA                          English   \n",
       "3266     USA                          English   \n",
       "3451     USA                          English   \n",
       "7705     USA  English, American Sign Language   \n",
       "7938     USA                          English   \n",
       "\n",
       "                             director  avg_vote     votes  avg_votes  \n",
       "2454                  Charles Chaplin       8.5  211250.0        8.5  \n",
       "3266     Victor Fleming, George Cukor       8.1  283975.0        8.1  \n",
       "3451     Victor Fleming, George Cukor       8.0  366293.0        8.1  \n",
       "7705  Clyde Geronimi, Wilfred Jackson       7.3  123085.0        7.3  \n",
       "7938                 Alfred Hitchcock       8.2  153300.0        8.2  "
      ],
      "text/html": "<div>\n<style scoped>\n    .dataframe tbody tr th:only-of-type {\n        vertical-align: middle;\n    }\n\n    .dataframe tbody tr th {\n        vertical-align: top;\n    }\n\n    .dataframe thead th {\n        text-align: right;\n    }\n</style>\n<table border=\"1\" class=\"dataframe\">\n  <thead>\n    <tr style=\"text-align: right;\">\n      <th></th>\n      <th>imdb_title_id</th>\n      <th>worlwide_gross_income</th>\n      <th>year</th>\n      <th>genre</th>\n      <th>country</th>\n      <th>language</th>\n      <th>director</th>\n      <th>avg_vote</th>\n      <th>votes</th>\n      <th>avg_votes</th>\n    </tr>\n  </thead>\n  <tbody>\n    <tr>\n      <th>2454</th>\n      <td>tt0027977</td>\n      <td>$ 457688</td>\n      <td>1936</td>\n      <td>Comedy, Drama, Family</td>\n      <td>USA</td>\n      <td>English</td>\n      <td>Charles Chaplin</td>\n      <td>8.5</td>\n      <td>211250.0</td>\n      <td>8.5</td>\n    </tr>\n    <tr>\n      <th>3266</th>\n      <td>tt0031381</td>\n      <td>$ 402352579</td>\n      <td>1939</td>\n      <td>Drama, History, Romance</td>\n      <td>USA</td>\n      <td>English</td>\n      <td>Victor Fleming, George Cukor</td>\n      <td>8.1</td>\n      <td>283975.0</td>\n      <td>8.1</td>\n    </tr>\n    <tr>\n      <th>3451</th>\n      <td>tt0032138</td>\n      <td>$ 26142032</td>\n      <td>1939</td>\n      <td>Adventure, Family, Fantasy</td>\n      <td>USA</td>\n      <td>English</td>\n      <td>Victor Fleming, George Cukor</td>\n      <td>8.0</td>\n      <td>366293.0</td>\n      <td>8.1</td>\n    </tr>\n    <tr>\n      <th>7705</th>\n      <td>tt0046183</td>\n      <td>$ 87404651</td>\n      <td>1953</td>\n      <td>Animation, Adventure, Family</td>\n      <td>USA</td>\n      <td>English, American Sign Language</td>\n      <td>Clyde Geronimi, Wilfred Jackson</td>\n      <td>7.3</td>\n      <td>123085.0</td>\n      <td>7.3</td>\n    </tr>\n    <tr>\n      <th>7938</th>\n      <td>tt0046912</td>\n      <td>$ 18816</td>\n      <td>1954</td>\n      <td>Crime, Thriller</td>\n      <td>USA</td>\n      <td>English</td>\n      <td>Alfred Hitchcock</td>\n      <td>8.2</td>\n      <td>153300.0</td>\n      <td>8.2</td>\n    </tr>\n  </tbody>\n</table>\n</div>"
     },
     "metadata": {},
     "execution_count": 189
    }
   ],
   "source": [
    "imdb_util.head()"
   ]
  },
  {
   "cell_type": "code",
   "execution_count": 190,
   "metadata": {},
   "outputs": [],
   "source": [
    "genres = []\n",
    "\n",
    "for g in imdb_util[\"genre\"].unique():\n",
    "    g = g.split(\",\")\n",
    "    for i in g:\n",
    "        i = i.strip()\n",
    "        if i not in genres:\n",
    "            genres.append(i)"
   ]
  },
  {
   "cell_type": "code",
   "execution_count": 191,
   "metadata": {},
   "outputs": [],
   "source": [
    "a = {}\n",
    "for genre in genres:\n",
    "    a[genre] = []\n",
    "\n",
    "    for row in imdb_util.iterrows():\n",
    "        g = row[1][\"genre\"]\n",
    "        if genre in g:\n",
    "            a[genre].append(1)\n",
    "        else:\n",
    "            a[genre].append(0)\n",
    "\n",
    "    imdb_util[genre] = a[genre]\n"
   ]
  },
  {
   "cell_type": "code",
   "execution_count": 192,
   "metadata": {},
   "outputs": [],
   "source": [
    "languages = []\n",
    "\n",
    "for l in imdb_util[\"language\"].unique():\n",
    "    l = l.split(\",\")\n",
    "    for i in l:\n",
    "        i = i.strip()\n",
    "        if i not in languages:\n",
    "            languages.append(i)"
   ]
  },
  {
   "cell_type": "code",
   "execution_count": 193,
   "metadata": {},
   "outputs": [],
   "source": [
    "a = {}\n",
    "for lang in languages:\n",
    "    a[lang] = []\n",
    "\n",
    "    for row in imdb_util.iterrows():\n",
    "        l = row[1][\"language\"]\n",
    "        if lang in l:\n",
    "            a[lang].append(1)\n",
    "        else:\n",
    "            a[lang].append(0)\n",
    "\n",
    "    imdb_util[lang] = a[lang]"
   ]
  },
  {
   "cell_type": "code",
   "execution_count": 194,
   "metadata": {},
   "outputs": [
    {
     "output_type": "execute_result",
     "data": {
      "text/plain": [
       "     imdb_title_id worlwide_gross_income  year                         genre  \\\n",
       "2454     tt0027977              $ 457688  1936         Comedy, Drama, Family   \n",
       "3266     tt0031381           $ 402352579  1939       Drama, History, Romance   \n",
       "3451     tt0032138            $ 26142032  1939    Adventure, Family, Fantasy   \n",
       "7705     tt0046183            $ 87404651  1953  Animation, Adventure, Family   \n",
       "7938     tt0046912               $ 18816  1954               Crime, Thriller   \n",
       "\n",
       "     country                         language  \\\n",
       "2454     USA                          English   \n",
       "3266     USA                          English   \n",
       "3451     USA                          English   \n",
       "7705     USA  English, American Sign Language   \n",
       "7938     USA                          English   \n",
       "\n",
       "                             director  avg_vote     votes  avg_votes  ...  \\\n",
       "2454                  Charles Chaplin       8.5  211250.0        8.5  ...   \n",
       "3266     Victor Fleming, George Cukor       8.1  283975.0        8.1  ...   \n",
       "3451     Victor Fleming, George Cukor       8.0  366293.0        8.1  ...   \n",
       "7705  Clyde Geronimi, Wilfred Jackson       7.3  123085.0        7.3  ...   \n",
       "7938                 Alfred Hitchcock       8.2  153300.0        8.2  ...   \n",
       "\n",
       "      Papiamento  Scots  Nama  Hokkien  British Sign Language  Maori  Samoan  \\\n",
       "2454           0      0     0        0                      0      0       0   \n",
       "3266           0      0     0        0                      0      0       0   \n",
       "3451           0      0     0        0                      0      0       0   \n",
       "7705           0      0     0        0                      0      0       0   \n",
       "7938           0      0     0        0                      0      0       0   \n",
       "\n",
       "      Quechua  Shoshoni  Middle English  \n",
       "2454        0         0               0  \n",
       "3266        0         0               0  \n",
       "3451        0         0               0  \n",
       "7705        0         0               0  \n",
       "7938        0         0               0  \n",
       "\n",
       "[5 rows x 164 columns]"
      ],
      "text/html": "<div>\n<style scoped>\n    .dataframe tbody tr th:only-of-type {\n        vertical-align: middle;\n    }\n\n    .dataframe tbody tr th {\n        vertical-align: top;\n    }\n\n    .dataframe thead th {\n        text-align: right;\n    }\n</style>\n<table border=\"1\" class=\"dataframe\">\n  <thead>\n    <tr style=\"text-align: right;\">\n      <th></th>\n      <th>imdb_title_id</th>\n      <th>worlwide_gross_income</th>\n      <th>year</th>\n      <th>genre</th>\n      <th>country</th>\n      <th>language</th>\n      <th>director</th>\n      <th>avg_vote</th>\n      <th>votes</th>\n      <th>avg_votes</th>\n      <th>...</th>\n      <th>Papiamento</th>\n      <th>Scots</th>\n      <th>Nama</th>\n      <th>Hokkien</th>\n      <th>British Sign Language</th>\n      <th>Maori</th>\n      <th>Samoan</th>\n      <th>Quechua</th>\n      <th>Shoshoni</th>\n      <th>Middle English</th>\n    </tr>\n  </thead>\n  <tbody>\n    <tr>\n      <th>2454</th>\n      <td>tt0027977</td>\n      <td>$ 457688</td>\n      <td>1936</td>\n      <td>Comedy, Drama, Family</td>\n      <td>USA</td>\n      <td>English</td>\n      <td>Charles Chaplin</td>\n      <td>8.5</td>\n      <td>211250.0</td>\n      <td>8.5</td>\n      <td>...</td>\n      <td>0</td>\n      <td>0</td>\n      <td>0</td>\n      <td>0</td>\n      <td>0</td>\n      <td>0</td>\n      <td>0</td>\n      <td>0</td>\n      <td>0</td>\n      <td>0</td>\n    </tr>\n    <tr>\n      <th>3266</th>\n      <td>tt0031381</td>\n      <td>$ 402352579</td>\n      <td>1939</td>\n      <td>Drama, History, Romance</td>\n      <td>USA</td>\n      <td>English</td>\n      <td>Victor Fleming, George Cukor</td>\n      <td>8.1</td>\n      <td>283975.0</td>\n      <td>8.1</td>\n      <td>...</td>\n      <td>0</td>\n      <td>0</td>\n      <td>0</td>\n      <td>0</td>\n      <td>0</td>\n      <td>0</td>\n      <td>0</td>\n      <td>0</td>\n      <td>0</td>\n      <td>0</td>\n    </tr>\n    <tr>\n      <th>3451</th>\n      <td>tt0032138</td>\n      <td>$ 26142032</td>\n      <td>1939</td>\n      <td>Adventure, Family, Fantasy</td>\n      <td>USA</td>\n      <td>English</td>\n      <td>Victor Fleming, George Cukor</td>\n      <td>8.0</td>\n      <td>366293.0</td>\n      <td>8.1</td>\n      <td>...</td>\n      <td>0</td>\n      <td>0</td>\n      <td>0</td>\n      <td>0</td>\n      <td>0</td>\n      <td>0</td>\n      <td>0</td>\n      <td>0</td>\n      <td>0</td>\n      <td>0</td>\n    </tr>\n    <tr>\n      <th>7705</th>\n      <td>tt0046183</td>\n      <td>$ 87404651</td>\n      <td>1953</td>\n      <td>Animation, Adventure, Family</td>\n      <td>USA</td>\n      <td>English, American Sign Language</td>\n      <td>Clyde Geronimi, Wilfred Jackson</td>\n      <td>7.3</td>\n      <td>123085.0</td>\n      <td>7.3</td>\n      <td>...</td>\n      <td>0</td>\n      <td>0</td>\n      <td>0</td>\n      <td>0</td>\n      <td>0</td>\n      <td>0</td>\n      <td>0</td>\n      <td>0</td>\n      <td>0</td>\n      <td>0</td>\n    </tr>\n    <tr>\n      <th>7938</th>\n      <td>tt0046912</td>\n      <td>$ 18816</td>\n      <td>1954</td>\n      <td>Crime, Thriller</td>\n      <td>USA</td>\n      <td>English</td>\n      <td>Alfred Hitchcock</td>\n      <td>8.2</td>\n      <td>153300.0</td>\n      <td>8.2</td>\n      <td>...</td>\n      <td>0</td>\n      <td>0</td>\n      <td>0</td>\n      <td>0</td>\n      <td>0</td>\n      <td>0</td>\n      <td>0</td>\n      <td>0</td>\n      <td>0</td>\n      <td>0</td>\n    </tr>\n  </tbody>\n</table>\n<p>5 rows × 164 columns</p>\n</div>"
     },
     "metadata": {},
     "execution_count": 194
    }
   ],
   "source": [
    "imdb_util.head()"
   ]
  },
  {
   "cell_type": "code",
   "execution_count": 195,
   "metadata": {},
   "outputs": [],
   "source": [
    "a = []\n",
    "for row in imdb_util.iterrows():\n",
    "   a.append(int(row[1][\"worlwide_gross_income\"].split(\"$ \")[1]))\n",
    "imdb_util[\"worlwide_gross_income\"] = a"
   ]
  },
  {
   "cell_type": "code",
   "execution_count": 202,
   "metadata": {},
   "outputs": [],
   "source": [
    "X = [\"avg_votes\"]\n",
    "for i in languages:\n",
    "    X.append(i)\n",
    "for i in genres:\n",
    "    X.append(i)\n",
    "Y = [\"worlwide_gross_income\"]"
   ]
  },
  {
   "cell_type": "code",
   "execution_count": 208,
   "metadata": {},
   "outputs": [],
   "source": [
    "import statsmodels.api as sm\n",
    "model = sm.OLS(imdb_util[Y], imdb_util[X])\n",
    "results = model.fit()"
   ]
  },
  {
   "cell_type": "code",
   "execution_count": 209,
   "metadata": {},
   "outputs": [
    {
     "output_type": "execute_result",
     "data": {
      "text/plain": [
       "<class 'statsmodels.iolib.summary.Summary'>\n",
       "\"\"\"\n",
       "                                  OLS Regression Results                                  \n",
       "==========================================================================================\n",
       "Dep. Variable:     worlwide_gross_income   R-squared (uncentered):                 -31.939\n",
       "Model:                               OLS   Adj. R-squared (uncentered):            -33.310\n",
       "Method:                    Least Squares   F-statistic:                             -23.29\n",
       "Date:                   Wed, 05 May 2021   Prob (F-statistic):                        1.00\n",
       "Time:                           08:05:08   Log-Likelihood:                         -78002.\n",
       "No. Observations:                   3828   AIC:                                  1.563e+05\n",
       "Df Residuals:                       3675   BIC:                                  1.573e+05\n",
       "Df Model:                            153                                                  \n",
       "Covariance Type:               nonrobust                                                  \n",
       "===========================================================================================\n",
       "                              coef    std err          t      P>|t|      [0.025      0.975]\n",
       "-------------------------------------------------------------------------------------------\n",
       "avg_votes                1.264e+07   2.51e+06      5.042      0.000    7.73e+06    1.76e+07\n",
       "English                  4.288e+07   1.51e+07      2.845      0.004    1.33e+07    7.24e+07\n",
       "American Sign Language   3.875e+07   4.05e+07      0.958      0.338   -4.06e+07    1.18e+08\n",
       "Japanese                  3.32e+06   1.62e+07      0.205      0.837   -2.84e+07     3.5e+07\n",
       "Spanish                  2.791e+07   8.88e+06      3.143      0.002    1.05e+07    4.53e+07\n",
       "Arabic                   2.563e+07   1.84e+07      1.394      0.163   -1.04e+07    6.17e+07\n",
       "Turkish                  -9.48e+06    3.8e+07     -0.250      0.803    -8.4e+07     6.5e+07\n",
       "French                   6.046e+06   9.44e+06      0.640      0.522   -1.25e+07    2.46e+07\n",
       "Russian                  4.039e+06   1.38e+07      0.293      0.770    -2.3e+07    3.11e+07\n",
       "Romany                   3.891e+07   1.03e+08      0.376      0.707   -1.64e+08    2.42e+08\n",
       "German                  -6.264e+06   1.23e+07     -0.509      0.610   -3.04e+07    1.78e+07\n",
       "Italian                  1.942e+07    1.3e+07      1.498      0.134      -6e+06    4.48e+07\n",
       "Yiddish                 -2.881e+07   4.95e+07     -0.582      0.560   -1.26e+08    6.82e+07\n",
       "Latin                    4.248e+06   2.14e+07      0.199      0.842   -3.76e+07    4.61e+07\n",
       "Greek                    5.998e+07   3.79e+07      1.581      0.114   -1.44e+07    1.34e+08\n",
       "Kurdish                  1.518e+08    1.1e+08      1.377      0.169   -6.43e+07    3.68e+08\n",
       "Hungarian               -4.548e+07   4.35e+07     -1.044      0.296   -1.31e+08    3.99e+07\n",
       "Swedish                   9.79e+07   3.26e+07      3.004      0.003     3.4e+07    1.62e+08\n",
       "Thai                     1.001e+08   4.24e+07      2.360      0.018    1.69e+07    1.83e+08\n",
       "Cantonese                -1.49e+07   2.53e+07     -0.589      0.556   -6.45e+07    3.47e+07\n",
       "Sicilian                -2.904e+07    1.4e+08     -0.207      0.836   -3.04e+08    2.46e+08\n",
       "Navajo                  -1.681e+07   8.96e+07     -0.188      0.851   -1.92e+08    1.59e+08\n",
       "Aboriginal              -7.757e+07    7.9e+07     -0.981      0.326   -2.33e+08    7.74e+07\n",
       "Hindi                    3.566e+07   3.42e+07      1.042      0.298   -3.15e+07    1.03e+08\n",
       "Croatian                -1.133e+07   1.42e+08     -0.080      0.936   -2.89e+08    2.66e+08\n",
       "Serbian                 -2.852e+07   6.43e+07     -0.444      0.657   -1.55e+08    9.75e+07\n",
       "Vietnamese              -1.343e+07   3.72e+07     -0.361      0.718   -8.63e+07    5.95e+07\n",
       "Portuguese               2.698e+07   2.82e+07      0.958      0.338   -2.82e+07    8.22e+07\n",
       "Klingon                 -1.056e+08    7.2e+07     -1.467      0.142   -2.47e+08    3.55e+07\n",
       "Dutch                    6.232e+07   4.45e+07      1.400      0.162   -2.49e+07     1.5e+08\n",
       "Romanian                -6.973e+07   4.69e+07     -1.486      0.137   -1.62e+08    2.23e+07\n",
       "Serbo-Croatian          -7.468e+07   1.54e+08     -0.484      0.629   -3.77e+08    2.28e+08\n",
       "Polish                   1.875e+07   3.87e+07      0.484      0.628   -5.72e+07    9.47e+07\n",
       "Ukrainian                5.508e+07   2.83e+07      1.947      0.052   -3.85e+05    1.11e+08\n",
       "Hebrew                   3.731e+07   2.75e+07      1.358      0.175   -1.66e+07    9.12e+07\n",
       "Nepali                   3.187e+07   1.78e+08      0.179      0.858   -3.17e+08    3.81e+08\n",
       "Tagalog                 -6.528e+07   8.24e+07     -0.792      0.428   -2.27e+08    9.63e+07\n",
       "Filipino                 -1.01e+08   7.77e+07     -1.301      0.193   -2.53e+08    5.13e+07\n",
       "Indonesian               1.389e+08   6.46e+07      2.151      0.032    1.23e+07    2.66e+08\n",
       "Norwegian                1.699e+07   5.74e+07      0.296      0.767   -9.55e+07     1.3e+08\n",
       "Sinhalese                1.935e+07   1.78e+08      0.109      0.914    -3.3e+08    3.69e+08\n",
       "Swahili                 -1.545e+07   6.27e+07     -0.246      0.805   -1.38e+08    1.08e+08\n",
       "Mandarin                 1.652e+07    1.8e+07      0.917      0.359   -1.88e+07    5.18e+07\n",
       "Persian                 -5.103e+07   5.11e+07     -0.999      0.318   -1.51e+08    4.91e+07\n",
       "Chinese                  3.201e+07   3.88e+07      0.824      0.410   -4.41e+07    1.08e+08\n",
       "Guarani                 -1.951e+08   1.77e+08     -1.102      0.270   -5.42e+08    1.52e+08\n",
       "Finnish                  -8.48e+07   6.32e+07     -1.341      0.180   -2.09e+08    3.91e+07\n",
       "Czech                    5.569e+07    4.8e+07      1.160      0.246   -3.84e+07     1.5e+08\n",
       "Slovak                  -1.319e+08    9.9e+07     -1.332      0.183   -3.26e+08    6.22e+07\n",
       "Dari                    -2.354e+07   1.12e+08     -0.210      0.834   -2.44e+08    1.97e+08\n",
       "Pushto                  -2.194e+07   8.18e+07     -0.268      0.789   -1.82e+08    1.38e+08\n",
       "Shanghainese             1.652e+08   9.13e+07      1.809      0.071   -1.38e+07    3.44e+08\n",
       "Spanish Sign Language    1.196e+08   1.75e+08      0.684      0.494   -2.23e+08    4.63e+08\n",
       "Assyrian Neo-Aramaic    -3.117e+08   2.15e+08     -1.448      0.148   -7.34e+08     1.1e+08\n",
       "Afrikaans               -2.074e+08   7.09e+07     -2.926      0.003   -3.46e+08   -6.84e+07\n",
       "Ancient (to 1453)       -5.555e+07   9.79e+07     -0.567      0.571   -2.48e+08    1.36e+08\n",
       "Korean                   1.014e+07   2.77e+07      0.366      0.714   -4.41e+07    6.44e+07\n",
       "Irish                    3.724e+07    6.5e+07      0.573      0.567   -9.02e+07    1.65e+08\n",
       "Lao                         -6e+07   1.26e+08     -0.478      0.633   -3.06e+08    1.86e+08\n",
       "North American Indian    6.096e+07   7.38e+07      0.826      0.409   -8.37e+07    2.06e+08\n",
       "Bulgarian                1.414e+08   1.03e+08      1.369      0.171   -6.12e+07    3.44e+08\n",
       "Egyptian (Ancient)      -4.436e+07   8.27e+07     -0.536      0.592   -2.07e+08    1.18e+08\n",
       "Cornish                  1.259e+08   1.76e+08      0.715      0.475   -2.19e+08    4.71e+08\n",
       "Algonquin                8.605e+07   1.44e+08      0.599      0.549   -1.96e+08    3.68e+08\n",
       "Cree                    -2.541e+08   1.75e+08     -1.451      0.147   -5.97e+08    8.92e+07\n",
       "Danish                  -6.474e+07   4.47e+07     -1.448      0.148   -1.52e+08    2.29e+07\n",
       "Malay                    1.073e+08   1.04e+08      1.035      0.301    -9.6e+07    3.11e+08\n",
       "Tibetan                 -7.606e+07   7.75e+07     -0.982      0.326   -2.28e+08    7.58e+07\n",
       "Albanian                 4.783e+07   7.97e+07      0.600      0.548   -1.08e+08    2.04e+08\n",
       "Bosnian                 -2.627e+07   1.88e+08     -0.140      0.889   -3.94e+08    3.41e+08\n",
       "Mende                    6.879e+07    1.3e+08      0.531      0.596   -1.85e+08    3.23e+08\n",
       "Tok Pisin               -3.168e+07   1.81e+08     -0.175      0.861   -3.86e+08    3.23e+08\n",
       "Norse                    -1.33e+08   1.32e+08     -1.005      0.315   -3.92e+08    1.26e+08\n",
       "Old                     -1.247e+08    7.8e+07     -1.598      0.110   -2.78e+08    2.83e+07\n",
       "Hawaiian                -5.399e+06   1.02e+08     -0.053      0.958   -2.06e+08    1.95e+08\n",
       "Urdu                     9.726e+06   5.33e+07      0.182      0.855   -9.48e+07    1.14e+08\n",
       "Somali                   5.181e+07   7.99e+07      0.649      0.517   -1.05e+08    2.08e+08\n",
       "Sindarin                 7.551e+08   1.43e+08      5.284      0.000    4.75e+08    1.04e+09\n",
       "Yoruba                  -1.387e+07   1.81e+08     -0.077      0.939   -3.69e+08    3.41e+08\n",
       "Chechen                 -9.231e+07   1.44e+08     -0.641      0.521   -3.75e+08     1.9e+08\n",
       "Icelandic                3.098e+07   5.87e+07      0.528      0.598   -8.41e+07    1.46e+08\n",
       "Armenian                -1.219e+08   8.01e+07     -1.521      0.128   -2.79e+08    3.52e+07\n",
       "Old English              8.286e+06   1.14e+08      0.073      0.942   -2.14e+08    2.31e+08\n",
       "Zulu                     1.248e+08   1.15e+08      1.081      0.280   -1.02e+08    3.51e+08\n",
       "Apache languages        -9.908e+07   1.02e+08     -0.974      0.330   -2.99e+08       1e+08\n",
       "Amharic                 -5.333e+07   1.27e+08     -0.421      0.674   -3.02e+08    1.95e+08\n",
       "Khmer                      8.2e+07   9.62e+07      0.852      0.394   -1.07e+08    2.71e+08\n",
       "Quenya                   2.749e+08   2.25e+08      1.219      0.223   -1.67e+08    7.17e+08\n",
       "Syriac                   -3.11e+08   2.15e+08     -1.445      0.149   -7.33e+08    1.11e+08\n",
       "Aramaic                  2.485e+08   1.25e+08      1.987      0.047     3.3e+06    4.94e+08\n",
       "Punjabi                 -1.417e+07   9.28e+07     -0.153      0.879   -1.96e+08    1.68e+08\n",
       "Catalan                 -1.343e+08   1.24e+08     -1.081      0.280   -3.78e+08    1.09e+08\n",
       "Gallegan                 1.224e+08   2.14e+08      0.571      0.568   -2.98e+08    5.43e+08\n",
       "Sioux                   -1.761e+08   1.76e+08     -1.000      0.317   -5.21e+08    1.69e+08\n",
       "None                     1.783e+08   2.03e+08      0.877      0.380    -2.2e+08    5.77e+08\n",
       "Welsh                    4.148e+07   1.08e+08      0.386      0.700   -1.69e+08    2.52e+08\n",
       "Scottish Gaelic         -9.847e+07   6.83e+07     -1.441      0.150   -2.32e+08    3.55e+07\n",
       "Corsican                 1.662e+07   1.25e+08      0.133      0.894   -2.29e+08    2.62e+08\n",
       "Inuktitut               -1.393e+08   1.45e+08     -0.961      0.337   -4.24e+08    1.45e+08\n",
       "Kazakh                  -1.633e+07   1.77e+08     -0.092      0.926   -3.63e+08     3.3e+08\n",
       "Brazilian Sign Language  4.339e+08   1.76e+08      2.469      0.014    8.94e+07    7.78e+08\n",
       "Berber languages        -8.512e+06   8.87e+07     -0.096      0.924   -1.82e+08    1.65e+08\n",
       "Japanese Sign Language  -8.512e+06   8.87e+07     -0.096      0.924   -1.82e+08    1.65e+08\n",
       "Bengali                 -9.221e+07   1.78e+08     -0.517      0.605   -4.42e+08    2.58e+08\n",
       "Maya                    -5.672e+07   1.24e+08     -0.457      0.648      -3e+08    1.87e+08\n",
       "Georgian                -1.831e+08   1.94e+08     -0.945      0.345   -5.63e+08    1.97e+08\n",
       "Lingala                  7.331e+07   1.24e+08      0.590      0.555    -1.7e+08    3.17e+08\n",
       "Estonian                  1.01e+08   1.24e+08      0.812      0.417   -1.43e+08    3.45e+08\n",
       "Sanskrit                  4.74e+07   1.34e+08      0.355      0.723   -2.14e+08    3.09e+08\n",
       "Low German              -7.852e+07   1.76e+08     -0.447      0.655   -4.23e+08    2.66e+08\n",
       "Mongolian               -5.333e+07   1.06e+08     -0.505      0.614    -2.6e+08    1.54e+08\n",
       "Swiss German              1.07e+08   8.97e+07      1.193      0.233   -6.89e+07    2.83e+08\n",
       "Burmese                 -1.288e+08    1.8e+08     -0.716      0.474   -4.81e+08    2.24e+08\n",
       "Hmong                    1.957e+08   1.75e+08      1.119      0.263   -1.47e+08    5.39e+08\n",
       "Tamil                    2.582e+08   1.84e+08      1.405      0.160   -1.02e+08    6.18e+08\n",
       "Xhosa                    1.202e+09   9.33e+07     12.883      0.000    1.02e+09    1.38e+09\n",
       "Greenlandic              5.666e+08   1.75e+08      3.233      0.001    2.23e+08     9.1e+08\n",
       "Sign Languages          -2.587e+08   1.87e+08     -1.384      0.167   -6.25e+08    1.08e+08\n",
       "Flemish                  7.841e+07   1.81e+08      0.432      0.666   -2.77e+08    4.34e+08\n",
       "Pawnee                   3.021e+08   1.75e+08      1.725      0.085   -4.13e+07    6.45e+08\n",
       "Min Nan                 -4.301e+07   1.77e+08     -0.243      0.808   -3.91e+08    3.05e+08\n",
       "Tswana                  -3.053e+07   1.75e+08     -0.174      0.862   -3.75e+08    3.13e+08\n",
       "Tupi                    -6.676e+07   1.78e+08     -0.375      0.708   -4.16e+08    2.83e+08\n",
       "Cheyenne                 7.042e+06   1.78e+08      0.040      0.968   -3.42e+08    3.56e+08\n",
       "Papiamento               1.251e+08   1.76e+08      0.713      0.476   -2.19e+08    4.69e+08\n",
       "Scots                   -1.775e+08   2.03e+08     -0.874      0.382   -5.76e+08    2.21e+08\n",
       "Nama                    -2.114e+08    2.1e+08     -1.007      0.314   -6.23e+08       2e+08\n",
       "Hokkien                  1.113e+08   2.04e+08      0.545      0.585   -2.89e+08    5.11e+08\n",
       "British Sign Language    8.621e+08   1.76e+08      4.907      0.000    5.18e+08    1.21e+09\n",
       "Maori                    7.976e+08   1.76e+08      4.532      0.000    4.53e+08    1.14e+09\n",
       "Samoan                   4.861e+08   1.75e+08      2.771      0.006    1.42e+08     8.3e+08\n",
       "Quechua                 -1.208e+08   1.75e+08     -0.689      0.491   -4.64e+08    2.23e+08\n",
       "Shoshoni                 2.135e+07   1.79e+08      0.119      0.905   -3.29e+08    3.72e+08\n",
       "Middle English           7.989e+07   2.27e+08      0.351      0.725   -3.66e+08    5.25e+08\n",
       "Comedy                   -3.85e+07    8.3e+06     -4.640      0.000   -5.48e+07   -2.22e+07\n",
       "Drama                   -5.736e+07   8.25e+06     -6.954      0.000   -7.35e+07   -4.12e+07\n",
       "Family                   7.091e+06   1.23e+07      0.576      0.565   -1.71e+07    3.12e+07\n",
       "History                  -2.18e+07   1.65e+07     -1.318      0.187   -5.42e+07    1.06e+07\n",
       "Romance                 -1.284e+07   9.11e+06     -1.410      0.159   -3.07e+07    5.02e+06\n",
       "Adventure                1.181e+08   9.29e+06     12.705      0.000    9.98e+07    1.36e+08\n",
       "Fantasy                  5.453e+07   1.11e+07      4.900      0.000    3.27e+07    7.63e+07\n",
       "Animation                1.218e+08   1.58e+07      7.717      0.000    9.08e+07    1.53e+08\n",
       "Crime                   -3.208e+07   8.41e+06     -3.814      0.000   -4.86e+07   -1.56e+07\n",
       "Thriller                -7.498e+06   9.64e+06     -0.778      0.437   -2.64e+07    1.14e+07\n",
       "Mystery                 -3.637e+06    1.1e+07     -0.331      0.741   -2.52e+07    1.79e+07\n",
       "Action                    2.36e+07   8.48e+06      2.783      0.005    6.97e+06    4.02e+07\n",
       "Musical                  3.382e+07   3.44e+07      0.983      0.326   -3.36e+07    1.01e+08\n",
       "Film-Noir               -8.401e+07   1.75e+08     -0.480      0.631   -4.27e+08    2.59e+08\n",
       "Horror                  -6.984e+07   1.16e+07     -6.025      0.000   -9.26e+07   -4.71e+07\n",
       "Biography               -1.104e+07   1.19e+07     -0.924      0.355   -3.45e+07    1.24e+07\n",
       "War                     -1.764e+07   2.27e+07     -0.777      0.437   -6.21e+07    2.69e+07\n",
       "Western                 -5.103e+07    3.4e+07     -1.502      0.133   -1.18e+08    1.56e+07\n",
       "Sci-Fi                    8.25e+07   1.21e+07      6.842      0.000    5.89e+07    1.06e+08\n",
       "Music                   -1.993e+07   1.78e+07     -1.122      0.262   -5.48e+07    1.49e+07\n",
       "Sport                   -2.491e+07   1.86e+07     -1.337      0.181   -6.14e+07    1.16e+07\n",
       "==============================================================================\n",
       "Omnibus:                     3092.332   Durbin-Watson:                   1.883\n",
       "Prob(Omnibus):                  0.000   Jarque-Bera (JB):           138157.410\n",
       "Skew:                           3.511   Prob(JB):                         0.00\n",
       "Kurtosis:                      31.581   Cond. No.                     6.32e+17\n",
       "==============================================================================\n",
       "\n",
       "Notes:\n",
       "[1] R² is computed without centering (uncentered) since the model does not contain a constant.\n",
       "[2] Standard Errors assume that the covariance matrix of the errors is correctly specified.\n",
       "[3] The smallest eigenvalue is 4.57e-31. This might indicate that there are\n",
       "strong multicollinearity problems or that the design matrix is singular.\n",
       "\"\"\""
      ],
      "text/html": "<table class=\"simpletable\">\n<caption>OLS Regression Results</caption>\n<tr>\n  <th>Dep. Variable:</th>    <td>worlwide_gross_income</td> <th>  R-squared (uncentered):</th>      <td> -31.939</td> \n</tr>\n<tr>\n  <th>Model:</th>                     <td>OLS</td>          <th>  Adj. R-squared (uncentered):</th> <td> -33.310</td> \n</tr>\n<tr>\n  <th>Method:</th>               <td>Least Squares</td>     <th>  F-statistic:       </th>          <td>  -23.29</td> \n</tr>\n<tr>\n  <th>Date:</th>               <td>Wed, 05 May 2021</td>    <th>  Prob (F-statistic):</th>           <td>  1.00</td>  \n</tr>\n<tr>\n  <th>Time:</th>                   <td>08:05:08</td>        <th>  Log-Likelihood:    </th>          <td> -78002.</td> \n</tr>\n<tr>\n  <th>No. Observations:</th>        <td>  3828</td>         <th>  AIC:               </th>          <td>1.563e+05</td>\n</tr>\n<tr>\n  <th>Df Residuals:</th>            <td>  3675</td>         <th>  BIC:               </th>          <td>1.573e+05</td>\n</tr>\n<tr>\n  <th>Df Model:</th>                <td>   153</td>         <th>                     </th>              <td> </td>    \n</tr>\n<tr>\n  <th>Covariance Type:</th>        <td>nonrobust</td>       <th>                     </th>              <td> </td>    \n</tr>\n</table>\n<table class=\"simpletable\">\n<tr>\n             <td></td>                <th>coef</th>     <th>std err</th>      <th>t</th>      <th>P>|t|</th>  <th>[0.025</th>    <th>0.975]</th>  \n</tr>\n<tr>\n  <th>avg_votes</th>               <td> 1.264e+07</td> <td> 2.51e+06</td> <td>    5.042</td> <td> 0.000</td> <td> 7.73e+06</td> <td> 1.76e+07</td>\n</tr>\n<tr>\n  <th>English</th>                 <td> 4.288e+07</td> <td> 1.51e+07</td> <td>    2.845</td> <td> 0.004</td> <td> 1.33e+07</td> <td> 7.24e+07</td>\n</tr>\n<tr>\n  <th>American Sign Language</th>  <td> 3.875e+07</td> <td> 4.05e+07</td> <td>    0.958</td> <td> 0.338</td> <td>-4.06e+07</td> <td> 1.18e+08</td>\n</tr>\n<tr>\n  <th>Japanese</th>                <td>  3.32e+06</td> <td> 1.62e+07</td> <td>    0.205</td> <td> 0.837</td> <td>-2.84e+07</td> <td>  3.5e+07</td>\n</tr>\n<tr>\n  <th>Spanish</th>                 <td> 2.791e+07</td> <td> 8.88e+06</td> <td>    3.143</td> <td> 0.002</td> <td> 1.05e+07</td> <td> 4.53e+07</td>\n</tr>\n<tr>\n  <th>Arabic</th>                  <td> 2.563e+07</td> <td> 1.84e+07</td> <td>    1.394</td> <td> 0.163</td> <td>-1.04e+07</td> <td> 6.17e+07</td>\n</tr>\n<tr>\n  <th>Turkish</th>                 <td> -9.48e+06</td> <td>  3.8e+07</td> <td>   -0.250</td> <td> 0.803</td> <td> -8.4e+07</td> <td>  6.5e+07</td>\n</tr>\n<tr>\n  <th>French</th>                  <td> 6.046e+06</td> <td> 9.44e+06</td> <td>    0.640</td> <td> 0.522</td> <td>-1.25e+07</td> <td> 2.46e+07</td>\n</tr>\n<tr>\n  <th>Russian</th>                 <td> 4.039e+06</td> <td> 1.38e+07</td> <td>    0.293</td> <td> 0.770</td> <td> -2.3e+07</td> <td> 3.11e+07</td>\n</tr>\n<tr>\n  <th>Romany</th>                  <td> 3.891e+07</td> <td> 1.03e+08</td> <td>    0.376</td> <td> 0.707</td> <td>-1.64e+08</td> <td> 2.42e+08</td>\n</tr>\n<tr>\n  <th>German</th>                  <td>-6.264e+06</td> <td> 1.23e+07</td> <td>   -0.509</td> <td> 0.610</td> <td>-3.04e+07</td> <td> 1.78e+07</td>\n</tr>\n<tr>\n  <th>Italian</th>                 <td> 1.942e+07</td> <td>  1.3e+07</td> <td>    1.498</td> <td> 0.134</td> <td>   -6e+06</td> <td> 4.48e+07</td>\n</tr>\n<tr>\n  <th>Yiddish</th>                 <td>-2.881e+07</td> <td> 4.95e+07</td> <td>   -0.582</td> <td> 0.560</td> <td>-1.26e+08</td> <td> 6.82e+07</td>\n</tr>\n<tr>\n  <th>Latin</th>                   <td> 4.248e+06</td> <td> 2.14e+07</td> <td>    0.199</td> <td> 0.842</td> <td>-3.76e+07</td> <td> 4.61e+07</td>\n</tr>\n<tr>\n  <th>Greek</th>                   <td> 5.998e+07</td> <td> 3.79e+07</td> <td>    1.581</td> <td> 0.114</td> <td>-1.44e+07</td> <td> 1.34e+08</td>\n</tr>\n<tr>\n  <th>Kurdish</th>                 <td> 1.518e+08</td> <td>  1.1e+08</td> <td>    1.377</td> <td> 0.169</td> <td>-6.43e+07</td> <td> 3.68e+08</td>\n</tr>\n<tr>\n  <th>Hungarian</th>               <td>-4.548e+07</td> <td> 4.35e+07</td> <td>   -1.044</td> <td> 0.296</td> <td>-1.31e+08</td> <td> 3.99e+07</td>\n</tr>\n<tr>\n  <th>Swedish</th>                 <td>  9.79e+07</td> <td> 3.26e+07</td> <td>    3.004</td> <td> 0.003</td> <td>  3.4e+07</td> <td> 1.62e+08</td>\n</tr>\n<tr>\n  <th>Thai</th>                    <td> 1.001e+08</td> <td> 4.24e+07</td> <td>    2.360</td> <td> 0.018</td> <td> 1.69e+07</td> <td> 1.83e+08</td>\n</tr>\n<tr>\n  <th>Cantonese</th>               <td> -1.49e+07</td> <td> 2.53e+07</td> <td>   -0.589</td> <td> 0.556</td> <td>-6.45e+07</td> <td> 3.47e+07</td>\n</tr>\n<tr>\n  <th>Sicilian</th>                <td>-2.904e+07</td> <td>  1.4e+08</td> <td>   -0.207</td> <td> 0.836</td> <td>-3.04e+08</td> <td> 2.46e+08</td>\n</tr>\n<tr>\n  <th>Navajo</th>                  <td>-1.681e+07</td> <td> 8.96e+07</td> <td>   -0.188</td> <td> 0.851</td> <td>-1.92e+08</td> <td> 1.59e+08</td>\n</tr>\n<tr>\n  <th>Aboriginal</th>              <td>-7.757e+07</td> <td>  7.9e+07</td> <td>   -0.981</td> <td> 0.326</td> <td>-2.33e+08</td> <td> 7.74e+07</td>\n</tr>\n<tr>\n  <th>Hindi</th>                   <td> 3.566e+07</td> <td> 3.42e+07</td> <td>    1.042</td> <td> 0.298</td> <td>-3.15e+07</td> <td> 1.03e+08</td>\n</tr>\n<tr>\n  <th>Croatian</th>                <td>-1.133e+07</td> <td> 1.42e+08</td> <td>   -0.080</td> <td> 0.936</td> <td>-2.89e+08</td> <td> 2.66e+08</td>\n</tr>\n<tr>\n  <th>Serbian</th>                 <td>-2.852e+07</td> <td> 6.43e+07</td> <td>   -0.444</td> <td> 0.657</td> <td>-1.55e+08</td> <td> 9.75e+07</td>\n</tr>\n<tr>\n  <th>Vietnamese</th>              <td>-1.343e+07</td> <td> 3.72e+07</td> <td>   -0.361</td> <td> 0.718</td> <td>-8.63e+07</td> <td> 5.95e+07</td>\n</tr>\n<tr>\n  <th>Portuguese</th>              <td> 2.698e+07</td> <td> 2.82e+07</td> <td>    0.958</td> <td> 0.338</td> <td>-2.82e+07</td> <td> 8.22e+07</td>\n</tr>\n<tr>\n  <th>Klingon</th>                 <td>-1.056e+08</td> <td>  7.2e+07</td> <td>   -1.467</td> <td> 0.142</td> <td>-2.47e+08</td> <td> 3.55e+07</td>\n</tr>\n<tr>\n  <th>Dutch</th>                   <td> 6.232e+07</td> <td> 4.45e+07</td> <td>    1.400</td> <td> 0.162</td> <td>-2.49e+07</td> <td>  1.5e+08</td>\n</tr>\n<tr>\n  <th>Romanian</th>                <td>-6.973e+07</td> <td> 4.69e+07</td> <td>   -1.486</td> <td> 0.137</td> <td>-1.62e+08</td> <td> 2.23e+07</td>\n</tr>\n<tr>\n  <th>Serbo-Croatian</th>          <td>-7.468e+07</td> <td> 1.54e+08</td> <td>   -0.484</td> <td> 0.629</td> <td>-3.77e+08</td> <td> 2.28e+08</td>\n</tr>\n<tr>\n  <th>Polish</th>                  <td> 1.875e+07</td> <td> 3.87e+07</td> <td>    0.484</td> <td> 0.628</td> <td>-5.72e+07</td> <td> 9.47e+07</td>\n</tr>\n<tr>\n  <th>Ukrainian</th>               <td> 5.508e+07</td> <td> 2.83e+07</td> <td>    1.947</td> <td> 0.052</td> <td>-3.85e+05</td> <td> 1.11e+08</td>\n</tr>\n<tr>\n  <th>Hebrew</th>                  <td> 3.731e+07</td> <td> 2.75e+07</td> <td>    1.358</td> <td> 0.175</td> <td>-1.66e+07</td> <td> 9.12e+07</td>\n</tr>\n<tr>\n  <th>Nepali</th>                  <td> 3.187e+07</td> <td> 1.78e+08</td> <td>    0.179</td> <td> 0.858</td> <td>-3.17e+08</td> <td> 3.81e+08</td>\n</tr>\n<tr>\n  <th>Tagalog</th>                 <td>-6.528e+07</td> <td> 8.24e+07</td> <td>   -0.792</td> <td> 0.428</td> <td>-2.27e+08</td> <td> 9.63e+07</td>\n</tr>\n<tr>\n  <th>Filipino</th>                <td> -1.01e+08</td> <td> 7.77e+07</td> <td>   -1.301</td> <td> 0.193</td> <td>-2.53e+08</td> <td> 5.13e+07</td>\n</tr>\n<tr>\n  <th>Indonesian</th>              <td> 1.389e+08</td> <td> 6.46e+07</td> <td>    2.151</td> <td> 0.032</td> <td> 1.23e+07</td> <td> 2.66e+08</td>\n</tr>\n<tr>\n  <th>Norwegian</th>               <td> 1.699e+07</td> <td> 5.74e+07</td> <td>    0.296</td> <td> 0.767</td> <td>-9.55e+07</td> <td>  1.3e+08</td>\n</tr>\n<tr>\n  <th>Sinhalese</th>               <td> 1.935e+07</td> <td> 1.78e+08</td> <td>    0.109</td> <td> 0.914</td> <td> -3.3e+08</td> <td> 3.69e+08</td>\n</tr>\n<tr>\n  <th>Swahili</th>                 <td>-1.545e+07</td> <td> 6.27e+07</td> <td>   -0.246</td> <td> 0.805</td> <td>-1.38e+08</td> <td> 1.08e+08</td>\n</tr>\n<tr>\n  <th>Mandarin</th>                <td> 1.652e+07</td> <td>  1.8e+07</td> <td>    0.917</td> <td> 0.359</td> <td>-1.88e+07</td> <td> 5.18e+07</td>\n</tr>\n<tr>\n  <th>Persian</th>                 <td>-5.103e+07</td> <td> 5.11e+07</td> <td>   -0.999</td> <td> 0.318</td> <td>-1.51e+08</td> <td> 4.91e+07</td>\n</tr>\n<tr>\n  <th>Chinese</th>                 <td> 3.201e+07</td> <td> 3.88e+07</td> <td>    0.824</td> <td> 0.410</td> <td>-4.41e+07</td> <td> 1.08e+08</td>\n</tr>\n<tr>\n  <th>Guarani</th>                 <td>-1.951e+08</td> <td> 1.77e+08</td> <td>   -1.102</td> <td> 0.270</td> <td>-5.42e+08</td> <td> 1.52e+08</td>\n</tr>\n<tr>\n  <th>Finnish</th>                 <td> -8.48e+07</td> <td> 6.32e+07</td> <td>   -1.341</td> <td> 0.180</td> <td>-2.09e+08</td> <td> 3.91e+07</td>\n</tr>\n<tr>\n  <th>Czech</th>                   <td> 5.569e+07</td> <td>  4.8e+07</td> <td>    1.160</td> <td> 0.246</td> <td>-3.84e+07</td> <td>  1.5e+08</td>\n</tr>\n<tr>\n  <th>Slovak</th>                  <td>-1.319e+08</td> <td>  9.9e+07</td> <td>   -1.332</td> <td> 0.183</td> <td>-3.26e+08</td> <td> 6.22e+07</td>\n</tr>\n<tr>\n  <th>Dari</th>                    <td>-2.354e+07</td> <td> 1.12e+08</td> <td>   -0.210</td> <td> 0.834</td> <td>-2.44e+08</td> <td> 1.97e+08</td>\n</tr>\n<tr>\n  <th>Pushto</th>                  <td>-2.194e+07</td> <td> 8.18e+07</td> <td>   -0.268</td> <td> 0.789</td> <td>-1.82e+08</td> <td> 1.38e+08</td>\n</tr>\n<tr>\n  <th>Shanghainese</th>            <td> 1.652e+08</td> <td> 9.13e+07</td> <td>    1.809</td> <td> 0.071</td> <td>-1.38e+07</td> <td> 3.44e+08</td>\n</tr>\n<tr>\n  <th>Spanish Sign Language</th>   <td> 1.196e+08</td> <td> 1.75e+08</td> <td>    0.684</td> <td> 0.494</td> <td>-2.23e+08</td> <td> 4.63e+08</td>\n</tr>\n<tr>\n  <th>Assyrian Neo-Aramaic</th>    <td>-3.117e+08</td> <td> 2.15e+08</td> <td>   -1.448</td> <td> 0.148</td> <td>-7.34e+08</td> <td>  1.1e+08</td>\n</tr>\n<tr>\n  <th>Afrikaans</th>               <td>-2.074e+08</td> <td> 7.09e+07</td> <td>   -2.926</td> <td> 0.003</td> <td>-3.46e+08</td> <td>-6.84e+07</td>\n</tr>\n<tr>\n  <th>Ancient (to 1453)</th>       <td>-5.555e+07</td> <td> 9.79e+07</td> <td>   -0.567</td> <td> 0.571</td> <td>-2.48e+08</td> <td> 1.36e+08</td>\n</tr>\n<tr>\n  <th>Korean</th>                  <td> 1.014e+07</td> <td> 2.77e+07</td> <td>    0.366</td> <td> 0.714</td> <td>-4.41e+07</td> <td> 6.44e+07</td>\n</tr>\n<tr>\n  <th>Irish</th>                   <td> 3.724e+07</td> <td>  6.5e+07</td> <td>    0.573</td> <td> 0.567</td> <td>-9.02e+07</td> <td> 1.65e+08</td>\n</tr>\n<tr>\n  <th>Lao</th>                     <td>    -6e+07</td> <td> 1.26e+08</td> <td>   -0.478</td> <td> 0.633</td> <td>-3.06e+08</td> <td> 1.86e+08</td>\n</tr>\n<tr>\n  <th>North American Indian</th>   <td> 6.096e+07</td> <td> 7.38e+07</td> <td>    0.826</td> <td> 0.409</td> <td>-8.37e+07</td> <td> 2.06e+08</td>\n</tr>\n<tr>\n  <th>Bulgarian</th>               <td> 1.414e+08</td> <td> 1.03e+08</td> <td>    1.369</td> <td> 0.171</td> <td>-6.12e+07</td> <td> 3.44e+08</td>\n</tr>\n<tr>\n  <th>Egyptian (Ancient)</th>      <td>-4.436e+07</td> <td> 8.27e+07</td> <td>   -0.536</td> <td> 0.592</td> <td>-2.07e+08</td> <td> 1.18e+08</td>\n</tr>\n<tr>\n  <th>Cornish</th>                 <td> 1.259e+08</td> <td> 1.76e+08</td> <td>    0.715</td> <td> 0.475</td> <td>-2.19e+08</td> <td> 4.71e+08</td>\n</tr>\n<tr>\n  <th>Algonquin</th>               <td> 8.605e+07</td> <td> 1.44e+08</td> <td>    0.599</td> <td> 0.549</td> <td>-1.96e+08</td> <td> 3.68e+08</td>\n</tr>\n<tr>\n  <th>Cree</th>                    <td>-2.541e+08</td> <td> 1.75e+08</td> <td>   -1.451</td> <td> 0.147</td> <td>-5.97e+08</td> <td> 8.92e+07</td>\n</tr>\n<tr>\n  <th>Danish</th>                  <td>-6.474e+07</td> <td> 4.47e+07</td> <td>   -1.448</td> <td> 0.148</td> <td>-1.52e+08</td> <td> 2.29e+07</td>\n</tr>\n<tr>\n  <th>Malay</th>                   <td> 1.073e+08</td> <td> 1.04e+08</td> <td>    1.035</td> <td> 0.301</td> <td> -9.6e+07</td> <td> 3.11e+08</td>\n</tr>\n<tr>\n  <th>Tibetan</th>                 <td>-7.606e+07</td> <td> 7.75e+07</td> <td>   -0.982</td> <td> 0.326</td> <td>-2.28e+08</td> <td> 7.58e+07</td>\n</tr>\n<tr>\n  <th>Albanian</th>                <td> 4.783e+07</td> <td> 7.97e+07</td> <td>    0.600</td> <td> 0.548</td> <td>-1.08e+08</td> <td> 2.04e+08</td>\n</tr>\n<tr>\n  <th>Bosnian</th>                 <td>-2.627e+07</td> <td> 1.88e+08</td> <td>   -0.140</td> <td> 0.889</td> <td>-3.94e+08</td> <td> 3.41e+08</td>\n</tr>\n<tr>\n  <th>Mende</th>                   <td> 6.879e+07</td> <td>  1.3e+08</td> <td>    0.531</td> <td> 0.596</td> <td>-1.85e+08</td> <td> 3.23e+08</td>\n</tr>\n<tr>\n  <th>Tok Pisin</th>               <td>-3.168e+07</td> <td> 1.81e+08</td> <td>   -0.175</td> <td> 0.861</td> <td>-3.86e+08</td> <td> 3.23e+08</td>\n</tr>\n<tr>\n  <th>Norse</th>                   <td> -1.33e+08</td> <td> 1.32e+08</td> <td>   -1.005</td> <td> 0.315</td> <td>-3.92e+08</td> <td> 1.26e+08</td>\n</tr>\n<tr>\n  <th>Old</th>                     <td>-1.247e+08</td> <td>  7.8e+07</td> <td>   -1.598</td> <td> 0.110</td> <td>-2.78e+08</td> <td> 2.83e+07</td>\n</tr>\n<tr>\n  <th>Hawaiian</th>                <td>-5.399e+06</td> <td> 1.02e+08</td> <td>   -0.053</td> <td> 0.958</td> <td>-2.06e+08</td> <td> 1.95e+08</td>\n</tr>\n<tr>\n  <th>Urdu</th>                    <td> 9.726e+06</td> <td> 5.33e+07</td> <td>    0.182</td> <td> 0.855</td> <td>-9.48e+07</td> <td> 1.14e+08</td>\n</tr>\n<tr>\n  <th>Somali</th>                  <td> 5.181e+07</td> <td> 7.99e+07</td> <td>    0.649</td> <td> 0.517</td> <td>-1.05e+08</td> <td> 2.08e+08</td>\n</tr>\n<tr>\n  <th>Sindarin</th>                <td> 7.551e+08</td> <td> 1.43e+08</td> <td>    5.284</td> <td> 0.000</td> <td> 4.75e+08</td> <td> 1.04e+09</td>\n</tr>\n<tr>\n  <th>Yoruba</th>                  <td>-1.387e+07</td> <td> 1.81e+08</td> <td>   -0.077</td> <td> 0.939</td> <td>-3.69e+08</td> <td> 3.41e+08</td>\n</tr>\n<tr>\n  <th>Chechen</th>                 <td>-9.231e+07</td> <td> 1.44e+08</td> <td>   -0.641</td> <td> 0.521</td> <td>-3.75e+08</td> <td>  1.9e+08</td>\n</tr>\n<tr>\n  <th>Icelandic</th>               <td> 3.098e+07</td> <td> 5.87e+07</td> <td>    0.528</td> <td> 0.598</td> <td>-8.41e+07</td> <td> 1.46e+08</td>\n</tr>\n<tr>\n  <th>Armenian</th>                <td>-1.219e+08</td> <td> 8.01e+07</td> <td>   -1.521</td> <td> 0.128</td> <td>-2.79e+08</td> <td> 3.52e+07</td>\n</tr>\n<tr>\n  <th>Old English</th>             <td> 8.286e+06</td> <td> 1.14e+08</td> <td>    0.073</td> <td> 0.942</td> <td>-2.14e+08</td> <td> 2.31e+08</td>\n</tr>\n<tr>\n  <th>Zulu</th>                    <td> 1.248e+08</td> <td> 1.15e+08</td> <td>    1.081</td> <td> 0.280</td> <td>-1.02e+08</td> <td> 3.51e+08</td>\n</tr>\n<tr>\n  <th>Apache languages</th>        <td>-9.908e+07</td> <td> 1.02e+08</td> <td>   -0.974</td> <td> 0.330</td> <td>-2.99e+08</td> <td>    1e+08</td>\n</tr>\n<tr>\n  <th>Amharic</th>                 <td>-5.333e+07</td> <td> 1.27e+08</td> <td>   -0.421</td> <td> 0.674</td> <td>-3.02e+08</td> <td> 1.95e+08</td>\n</tr>\n<tr>\n  <th>Khmer</th>                   <td>   8.2e+07</td> <td> 9.62e+07</td> <td>    0.852</td> <td> 0.394</td> <td>-1.07e+08</td> <td> 2.71e+08</td>\n</tr>\n<tr>\n  <th>Quenya</th>                  <td> 2.749e+08</td> <td> 2.25e+08</td> <td>    1.219</td> <td> 0.223</td> <td>-1.67e+08</td> <td> 7.17e+08</td>\n</tr>\n<tr>\n  <th>Syriac</th>                  <td> -3.11e+08</td> <td> 2.15e+08</td> <td>   -1.445</td> <td> 0.149</td> <td>-7.33e+08</td> <td> 1.11e+08</td>\n</tr>\n<tr>\n  <th>Aramaic</th>                 <td> 2.485e+08</td> <td> 1.25e+08</td> <td>    1.987</td> <td> 0.047</td> <td>  3.3e+06</td> <td> 4.94e+08</td>\n</tr>\n<tr>\n  <th>Punjabi</th>                 <td>-1.417e+07</td> <td> 9.28e+07</td> <td>   -0.153</td> <td> 0.879</td> <td>-1.96e+08</td> <td> 1.68e+08</td>\n</tr>\n<tr>\n  <th>Catalan</th>                 <td>-1.343e+08</td> <td> 1.24e+08</td> <td>   -1.081</td> <td> 0.280</td> <td>-3.78e+08</td> <td> 1.09e+08</td>\n</tr>\n<tr>\n  <th>Gallegan</th>                <td> 1.224e+08</td> <td> 2.14e+08</td> <td>    0.571</td> <td> 0.568</td> <td>-2.98e+08</td> <td> 5.43e+08</td>\n</tr>\n<tr>\n  <th>Sioux</th>                   <td>-1.761e+08</td> <td> 1.76e+08</td> <td>   -1.000</td> <td> 0.317</td> <td>-5.21e+08</td> <td> 1.69e+08</td>\n</tr>\n<tr>\n  <th>None</th>                    <td> 1.783e+08</td> <td> 2.03e+08</td> <td>    0.877</td> <td> 0.380</td> <td> -2.2e+08</td> <td> 5.77e+08</td>\n</tr>\n<tr>\n  <th>Welsh</th>                   <td> 4.148e+07</td> <td> 1.08e+08</td> <td>    0.386</td> <td> 0.700</td> <td>-1.69e+08</td> <td> 2.52e+08</td>\n</tr>\n<tr>\n  <th>Scottish Gaelic</th>         <td>-9.847e+07</td> <td> 6.83e+07</td> <td>   -1.441</td> <td> 0.150</td> <td>-2.32e+08</td> <td> 3.55e+07</td>\n</tr>\n<tr>\n  <th>Corsican</th>                <td> 1.662e+07</td> <td> 1.25e+08</td> <td>    0.133</td> <td> 0.894</td> <td>-2.29e+08</td> <td> 2.62e+08</td>\n</tr>\n<tr>\n  <th>Inuktitut</th>               <td>-1.393e+08</td> <td> 1.45e+08</td> <td>   -0.961</td> <td> 0.337</td> <td>-4.24e+08</td> <td> 1.45e+08</td>\n</tr>\n<tr>\n  <th>Kazakh</th>                  <td>-1.633e+07</td> <td> 1.77e+08</td> <td>   -0.092</td> <td> 0.926</td> <td>-3.63e+08</td> <td>  3.3e+08</td>\n</tr>\n<tr>\n  <th>Brazilian Sign Language</th> <td> 4.339e+08</td> <td> 1.76e+08</td> <td>    2.469</td> <td> 0.014</td> <td> 8.94e+07</td> <td> 7.78e+08</td>\n</tr>\n<tr>\n  <th>Berber languages</th>        <td>-8.512e+06</td> <td> 8.87e+07</td> <td>   -0.096</td> <td> 0.924</td> <td>-1.82e+08</td> <td> 1.65e+08</td>\n</tr>\n<tr>\n  <th>Japanese Sign Language</th>  <td>-8.512e+06</td> <td> 8.87e+07</td> <td>   -0.096</td> <td> 0.924</td> <td>-1.82e+08</td> <td> 1.65e+08</td>\n</tr>\n<tr>\n  <th>Bengali</th>                 <td>-9.221e+07</td> <td> 1.78e+08</td> <td>   -0.517</td> <td> 0.605</td> <td>-4.42e+08</td> <td> 2.58e+08</td>\n</tr>\n<tr>\n  <th>Maya</th>                    <td>-5.672e+07</td> <td> 1.24e+08</td> <td>   -0.457</td> <td> 0.648</td> <td>   -3e+08</td> <td> 1.87e+08</td>\n</tr>\n<tr>\n  <th>Georgian</th>                <td>-1.831e+08</td> <td> 1.94e+08</td> <td>   -0.945</td> <td> 0.345</td> <td>-5.63e+08</td> <td> 1.97e+08</td>\n</tr>\n<tr>\n  <th>Lingala</th>                 <td> 7.331e+07</td> <td> 1.24e+08</td> <td>    0.590</td> <td> 0.555</td> <td> -1.7e+08</td> <td> 3.17e+08</td>\n</tr>\n<tr>\n  <th>Estonian</th>                <td>  1.01e+08</td> <td> 1.24e+08</td> <td>    0.812</td> <td> 0.417</td> <td>-1.43e+08</td> <td> 3.45e+08</td>\n</tr>\n<tr>\n  <th>Sanskrit</th>                <td>  4.74e+07</td> <td> 1.34e+08</td> <td>    0.355</td> <td> 0.723</td> <td>-2.14e+08</td> <td> 3.09e+08</td>\n</tr>\n<tr>\n  <th>Low German</th>              <td>-7.852e+07</td> <td> 1.76e+08</td> <td>   -0.447</td> <td> 0.655</td> <td>-4.23e+08</td> <td> 2.66e+08</td>\n</tr>\n<tr>\n  <th>Mongolian</th>               <td>-5.333e+07</td> <td> 1.06e+08</td> <td>   -0.505</td> <td> 0.614</td> <td> -2.6e+08</td> <td> 1.54e+08</td>\n</tr>\n<tr>\n  <th>Swiss German</th>            <td>  1.07e+08</td> <td> 8.97e+07</td> <td>    1.193</td> <td> 0.233</td> <td>-6.89e+07</td> <td> 2.83e+08</td>\n</tr>\n<tr>\n  <th>Burmese</th>                 <td>-1.288e+08</td> <td>  1.8e+08</td> <td>   -0.716</td> <td> 0.474</td> <td>-4.81e+08</td> <td> 2.24e+08</td>\n</tr>\n<tr>\n  <th>Hmong</th>                   <td> 1.957e+08</td> <td> 1.75e+08</td> <td>    1.119</td> <td> 0.263</td> <td>-1.47e+08</td> <td> 5.39e+08</td>\n</tr>\n<tr>\n  <th>Tamil</th>                   <td> 2.582e+08</td> <td> 1.84e+08</td> <td>    1.405</td> <td> 0.160</td> <td>-1.02e+08</td> <td> 6.18e+08</td>\n</tr>\n<tr>\n  <th>Xhosa</th>                   <td> 1.202e+09</td> <td> 9.33e+07</td> <td>   12.883</td> <td> 0.000</td> <td> 1.02e+09</td> <td> 1.38e+09</td>\n</tr>\n<tr>\n  <th>Greenlandic</th>             <td> 5.666e+08</td> <td> 1.75e+08</td> <td>    3.233</td> <td> 0.001</td> <td> 2.23e+08</td> <td>  9.1e+08</td>\n</tr>\n<tr>\n  <th>Sign Languages</th>          <td>-2.587e+08</td> <td> 1.87e+08</td> <td>   -1.384</td> <td> 0.167</td> <td>-6.25e+08</td> <td> 1.08e+08</td>\n</tr>\n<tr>\n  <th>Flemish</th>                 <td> 7.841e+07</td> <td> 1.81e+08</td> <td>    0.432</td> <td> 0.666</td> <td>-2.77e+08</td> <td> 4.34e+08</td>\n</tr>\n<tr>\n  <th>Pawnee</th>                  <td> 3.021e+08</td> <td> 1.75e+08</td> <td>    1.725</td> <td> 0.085</td> <td>-4.13e+07</td> <td> 6.45e+08</td>\n</tr>\n<tr>\n  <th>Min Nan</th>                 <td>-4.301e+07</td> <td> 1.77e+08</td> <td>   -0.243</td> <td> 0.808</td> <td>-3.91e+08</td> <td> 3.05e+08</td>\n</tr>\n<tr>\n  <th>Tswana</th>                  <td>-3.053e+07</td> <td> 1.75e+08</td> <td>   -0.174</td> <td> 0.862</td> <td>-3.75e+08</td> <td> 3.13e+08</td>\n</tr>\n<tr>\n  <th>Tupi</th>                    <td>-6.676e+07</td> <td> 1.78e+08</td> <td>   -0.375</td> <td> 0.708</td> <td>-4.16e+08</td> <td> 2.83e+08</td>\n</tr>\n<tr>\n  <th>Cheyenne</th>                <td> 7.042e+06</td> <td> 1.78e+08</td> <td>    0.040</td> <td> 0.968</td> <td>-3.42e+08</td> <td> 3.56e+08</td>\n</tr>\n<tr>\n  <th>Papiamento</th>              <td> 1.251e+08</td> <td> 1.76e+08</td> <td>    0.713</td> <td> 0.476</td> <td>-2.19e+08</td> <td> 4.69e+08</td>\n</tr>\n<tr>\n  <th>Scots</th>                   <td>-1.775e+08</td> <td> 2.03e+08</td> <td>   -0.874</td> <td> 0.382</td> <td>-5.76e+08</td> <td> 2.21e+08</td>\n</tr>\n<tr>\n  <th>Nama</th>                    <td>-2.114e+08</td> <td>  2.1e+08</td> <td>   -1.007</td> <td> 0.314</td> <td>-6.23e+08</td> <td>    2e+08</td>\n</tr>\n<tr>\n  <th>Hokkien</th>                 <td> 1.113e+08</td> <td> 2.04e+08</td> <td>    0.545</td> <td> 0.585</td> <td>-2.89e+08</td> <td> 5.11e+08</td>\n</tr>\n<tr>\n  <th>British Sign Language</th>   <td> 8.621e+08</td> <td> 1.76e+08</td> <td>    4.907</td> <td> 0.000</td> <td> 5.18e+08</td> <td> 1.21e+09</td>\n</tr>\n<tr>\n  <th>Maori</th>                   <td> 7.976e+08</td> <td> 1.76e+08</td> <td>    4.532</td> <td> 0.000</td> <td> 4.53e+08</td> <td> 1.14e+09</td>\n</tr>\n<tr>\n  <th>Samoan</th>                  <td> 4.861e+08</td> <td> 1.75e+08</td> <td>    2.771</td> <td> 0.006</td> <td> 1.42e+08</td> <td>  8.3e+08</td>\n</tr>\n<tr>\n  <th>Quechua</th>                 <td>-1.208e+08</td> <td> 1.75e+08</td> <td>   -0.689</td> <td> 0.491</td> <td>-4.64e+08</td> <td> 2.23e+08</td>\n</tr>\n<tr>\n  <th>Shoshoni</th>                <td> 2.135e+07</td> <td> 1.79e+08</td> <td>    0.119</td> <td> 0.905</td> <td>-3.29e+08</td> <td> 3.72e+08</td>\n</tr>\n<tr>\n  <th>Middle English</th>          <td> 7.989e+07</td> <td> 2.27e+08</td> <td>    0.351</td> <td> 0.725</td> <td>-3.66e+08</td> <td> 5.25e+08</td>\n</tr>\n<tr>\n  <th>Comedy</th>                  <td> -3.85e+07</td> <td>  8.3e+06</td> <td>   -4.640</td> <td> 0.000</td> <td>-5.48e+07</td> <td>-2.22e+07</td>\n</tr>\n<tr>\n  <th>Drama</th>                   <td>-5.736e+07</td> <td> 8.25e+06</td> <td>   -6.954</td> <td> 0.000</td> <td>-7.35e+07</td> <td>-4.12e+07</td>\n</tr>\n<tr>\n  <th>Family</th>                  <td> 7.091e+06</td> <td> 1.23e+07</td> <td>    0.576</td> <td> 0.565</td> <td>-1.71e+07</td> <td> 3.12e+07</td>\n</tr>\n<tr>\n  <th>History</th>                 <td> -2.18e+07</td> <td> 1.65e+07</td> <td>   -1.318</td> <td> 0.187</td> <td>-5.42e+07</td> <td> 1.06e+07</td>\n</tr>\n<tr>\n  <th>Romance</th>                 <td>-1.284e+07</td> <td> 9.11e+06</td> <td>   -1.410</td> <td> 0.159</td> <td>-3.07e+07</td> <td> 5.02e+06</td>\n</tr>\n<tr>\n  <th>Adventure</th>               <td> 1.181e+08</td> <td> 9.29e+06</td> <td>   12.705</td> <td> 0.000</td> <td> 9.98e+07</td> <td> 1.36e+08</td>\n</tr>\n<tr>\n  <th>Fantasy</th>                 <td> 5.453e+07</td> <td> 1.11e+07</td> <td>    4.900</td> <td> 0.000</td> <td> 3.27e+07</td> <td> 7.63e+07</td>\n</tr>\n<tr>\n  <th>Animation</th>               <td> 1.218e+08</td> <td> 1.58e+07</td> <td>    7.717</td> <td> 0.000</td> <td> 9.08e+07</td> <td> 1.53e+08</td>\n</tr>\n<tr>\n  <th>Crime</th>                   <td>-3.208e+07</td> <td> 8.41e+06</td> <td>   -3.814</td> <td> 0.000</td> <td>-4.86e+07</td> <td>-1.56e+07</td>\n</tr>\n<tr>\n  <th>Thriller</th>                <td>-7.498e+06</td> <td> 9.64e+06</td> <td>   -0.778</td> <td> 0.437</td> <td>-2.64e+07</td> <td> 1.14e+07</td>\n</tr>\n<tr>\n  <th>Mystery</th>                 <td>-3.637e+06</td> <td>  1.1e+07</td> <td>   -0.331</td> <td> 0.741</td> <td>-2.52e+07</td> <td> 1.79e+07</td>\n</tr>\n<tr>\n  <th>Action</th>                  <td>  2.36e+07</td> <td> 8.48e+06</td> <td>    2.783</td> <td> 0.005</td> <td> 6.97e+06</td> <td> 4.02e+07</td>\n</tr>\n<tr>\n  <th>Musical</th>                 <td> 3.382e+07</td> <td> 3.44e+07</td> <td>    0.983</td> <td> 0.326</td> <td>-3.36e+07</td> <td> 1.01e+08</td>\n</tr>\n<tr>\n  <th>Film-Noir</th>               <td>-8.401e+07</td> <td> 1.75e+08</td> <td>   -0.480</td> <td> 0.631</td> <td>-4.27e+08</td> <td> 2.59e+08</td>\n</tr>\n<tr>\n  <th>Horror</th>                  <td>-6.984e+07</td> <td> 1.16e+07</td> <td>   -6.025</td> <td> 0.000</td> <td>-9.26e+07</td> <td>-4.71e+07</td>\n</tr>\n<tr>\n  <th>Biography</th>               <td>-1.104e+07</td> <td> 1.19e+07</td> <td>   -0.924</td> <td> 0.355</td> <td>-3.45e+07</td> <td> 1.24e+07</td>\n</tr>\n<tr>\n  <th>War</th>                     <td>-1.764e+07</td> <td> 2.27e+07</td> <td>   -0.777</td> <td> 0.437</td> <td>-6.21e+07</td> <td> 2.69e+07</td>\n</tr>\n<tr>\n  <th>Western</th>                 <td>-5.103e+07</td> <td>  3.4e+07</td> <td>   -1.502</td> <td> 0.133</td> <td>-1.18e+08</td> <td> 1.56e+07</td>\n</tr>\n<tr>\n  <th>Sci-Fi</th>                  <td>  8.25e+07</td> <td> 1.21e+07</td> <td>    6.842</td> <td> 0.000</td> <td> 5.89e+07</td> <td> 1.06e+08</td>\n</tr>\n<tr>\n  <th>Music</th>                   <td>-1.993e+07</td> <td> 1.78e+07</td> <td>   -1.122</td> <td> 0.262</td> <td>-5.48e+07</td> <td> 1.49e+07</td>\n</tr>\n<tr>\n  <th>Sport</th>                   <td>-2.491e+07</td> <td> 1.86e+07</td> <td>   -1.337</td> <td> 0.181</td> <td>-6.14e+07</td> <td> 1.16e+07</td>\n</tr>\n</table>\n<table class=\"simpletable\">\n<tr>\n  <th>Omnibus:</th>       <td>3092.332</td> <th>  Durbin-Watson:     </th>  <td>   1.883</td> \n</tr>\n<tr>\n  <th>Prob(Omnibus):</th>  <td> 0.000</td>  <th>  Jarque-Bera (JB):  </th> <td>138157.410</td>\n</tr>\n<tr>\n  <th>Skew:</th>           <td> 3.511</td>  <th>  Prob(JB):          </th>  <td>    0.00</td> \n</tr>\n<tr>\n  <th>Kurtosis:</th>       <td>31.581</td>  <th>  Cond. No.          </th>  <td>6.32e+17</td> \n</tr>\n</table><br/><br/>Notes:<br/>[1] R² is computed without centering (uncentered) since the model does not contain a constant.<br/>[2] Standard Errors assume that the covariance matrix of the errors is correctly specified.<br/>[3] The smallest eigenvalue is 4.57e-31. This might indicate that there are<br/>strong multicollinearity problems or that the design matrix is singular."
     },
     "metadata": {},
     "execution_count": 209
    }
   ],
   "source": [
    "results.summary()"
   ]
  },
  {
   "cell_type": "code",
   "execution_count": 219,
   "metadata": {},
   "outputs": [
    {
     "output_type": "stream",
     "name": "stdout",
     "text": [
      "rep:\n    coeficiente 12644261.053\n    p-valor 0.0\n"
     ]
    }
   ],
   "source": [
    "print(f\"\"\"rep:\n",
    "    coeficiente {round(results.params[\"avg_votes\"], 3)}\n",
    "    p-valor {round(results.pvalues[\"avg_votes\"], 3)}\"\"\")\n",
    "\n"
   ]
  }
 ]
}